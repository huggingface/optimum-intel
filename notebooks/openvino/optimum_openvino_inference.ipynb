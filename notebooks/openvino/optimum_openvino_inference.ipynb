{
 "cells": [
  {
   "cell_type": "markdown",
   "id": "d86d561a-4ea0-4d0e-ba17-4fed76a29567",
   "metadata": {},
   "source": [
    "# OpenVINO Inference with 🤗 Optimum\n",
    "\n",
    "This notebook is a playground for running inference with OpenVINO on Transformers models with Optimum. The first part of this notebook explains the different ways to load a model, and some options specific to OpenVINO, like doing inference on an Intel GPU. The second part of this notebook consists of small examples for different supported tasks. \n",
    "\n",
    "Do not forget to install the required dependencies before running this notebook with `pip install optimum[openvino] ipywidgets pillow torchaudio` or uncomment the cell below to install these requirements in your current Python environment. The audio classification example requires [ffmpeg](https://ffmpeg.org/download.html)."
   ]
  },
  {
   "cell_type": "code",
   "execution_count": 1,
   "id": "6a6774ad-912b-4053-b7f6-14dc020807ef",
   "metadata": {
    "execution": {
     "iopub.execute_input": "2023-03-12T19:47:17.121564Z",
     "iopub.status.busy": "2023-03-12T19:47:17.121264Z",
     "iopub.status.idle": "2023-03-12T19:47:17.125098Z",
     "shell.execute_reply": "2023-03-12T19:47:17.124669Z",
     "shell.execute_reply.started": "2023-03-12T19:47:17.121531Z"
    },
    "tags": []
   },
   "outputs": [],
   "source": [
    "# %pip install optimum[openvino] ipywidgets pillow torchaudio"
   ]
  },
  {
   "cell_type": "markdown",
   "id": "b432e17f-48d1-4676-bb97-9060d683aa83",
   "metadata": {
    "tags": []
   },
   "source": [
    "## Part 1: Inference with OpenVINO\n",
    "\n",
    "To load an OpenVINO model, you can just replace the Transformers `AutoModelForXxx` class with the corresponding Optimum `OVModelForXxx` class. This will allow you to load models hosted locally or from the Hugging Face [Hub](https://huggingface.co/models).\n",
    "\n",
    "The method can be used to load OpenVINO models (stored as openvino_model.xml and openvino_model.bin) and PyTorch models (stored as pytorch_model.bin). To load a PyTorch model and convert it to the OpenVINO format on-the-fly, you can set export=True when loading your model. Don't forget to save the resulting OpenVINO model, using the `.save_pretrained(save_dir)` method. The OpenVINO model will be saved in the `save_dir` directory.\n",
    "\n",
    "For faster model loading, we recommend to always save the converted model, avoiding to convert the models multiple times."
   ]
  },
  {
   "cell_type": "code",
   "execution_count": 2,
   "id": "0c89b2a2-ce31-4773-9454-3e0e57d1a231",
   "metadata": {
    "execution": {
     "iopub.execute_input": "2023-03-12T19:47:17.127386Z",
     "iopub.status.busy": "2023-03-12T19:47:17.127169Z",
     "iopub.status.idle": "2023-03-12T19:47:24.576408Z",
     "shell.execute_reply": "2023-03-12T19:47:24.575840Z",
     "shell.execute_reply.started": "2023-03-12T19:47:17.127372Z"
    },
    "tags": []
   },
   "outputs": [
    {
     "name": "stderr",
     "output_type": "stream",
     "text": [
      "/home/helena/venvs/openvino_env/lib/python3.10/site-packages/openvino/offline_transformations/__init__.py:10: FutureWarning: The module is private and following namespace `offline_transformations` will be removed in the future.\n",
      "  warnings.warn(\n"
     ]
    },
    {
     "name": "stdout",
     "output_type": "stream",
     "text": [
      "INFO:nncf:NNCF initialized successfully. Supported frameworks detected: torch, onnx, openvino\n"
     ]
    }
   ],
   "source": [
    "from optimum.intel.openvino import OVModelForQuestionAnswering\n",
    "\n",
    "# Load PyTorch model from the Hub and export to OpenVINO in the background\n",
    "model = OVModelForQuestionAnswering.from_pretrained(\"distilbert-base-uncased-distilled-squad\", export=True)\n",
    "\n",
    "# Save the converted model to a local directory\n",
    "model.save_pretrained(\"distilbert-base-uncased-distilled-squad-ov-fp32\")\n",
    "\n",
    "# Load the OpenVINO model directly from the directory\n",
    "model = OVModelForQuestionAnswering.from_pretrained(\"distilbert-base-uncased-distilled-squad-ov-fp32\")"
   ]
  },
  {
   "cell_type": "markdown",
   "id": "0d8be7bd-1be2-4f42-9fa9-49e5edbe875e",
   "metadata": {},
   "source": [
    "To convert input data like text and images to numeric values that the model expects, a preprocessor is used. For text models this is a Tokenizer, for image models an ImageProcessor, for audio models a FeatureExtractor. It is useful to save the preprocessor for a particular model in the same directory as the model, to facilitate the loading."
   ]
  },
  {
   "cell_type": "code",
   "execution_count": 3,
   "id": "8053abe3-0e1f-445d-8397-630efac28269",
   "metadata": {
    "execution": {
     "iopub.execute_input": "2023-03-12T19:47:24.577918Z",
     "iopub.status.busy": "2023-03-12T19:47:24.577422Z",
     "iopub.status.idle": "2023-03-12T19:47:25.276093Z",
     "shell.execute_reply": "2023-03-12T19:47:25.275685Z",
     "shell.execute_reply.started": "2023-03-12T19:47:24.577895Z"
    },
    "tags": []
   },
   "outputs": [
    {
     "data": {
      "text/plain": [
       "('distilbert-base-uncased-distilled-squad-ov-fp32/tokenizer_config.json',\n",
       " 'distilbert-base-uncased-distilled-squad-ov-fp32/special_tokens_map.json',\n",
       " 'distilbert-base-uncased-distilled-squad-ov-fp32/vocab.txt',\n",
       " 'distilbert-base-uncased-distilled-squad-ov-fp32/added_tokens.json',\n",
       " 'distilbert-base-uncased-distilled-squad-ov-fp32/tokenizer.json')"
      ]
     },
     "execution_count": 3,
     "metadata": {},
     "output_type": "execute_result"
    }
   ],
   "source": [
    "from transformers import AutoTokenizer\n",
    "\n",
    "tokenizer = AutoTokenizer.from_pretrained(\"distilbert-base-uncased-distilled-squad\")\n",
    "tokenizer.save_pretrained(\"distilbert-base-uncased-distilled-squad-ov-fp32\")"
   ]
  },
  {
   "cell_type": "markdown",
   "id": "fed955ed-4b88-4bf5-984a-6317f24bd0d4",
   "metadata": {},
   "source": [
    "### Run Inference\n",
    "\n",
    "\n",
    "#### Running inference with Transformers Pipelines\n",
    "\n",
    "The easiest way to do inference on Transformers model is by using Transformers [pipelines](https://huggingface.co/docs/transformers/main/en/pipeline_tutorial), which takes care of both the pre-processing and post-processing steps. For example, for a question-answering model, you give it a question and a context, and it returns an answer; for an image classification model, you give it a path to an image and it returns the classification prediction for that image..\n"
   ]
  },
  {
   "cell_type": "code",
   "execution_count": 4,
   "id": "dcf7a5c3-81ba-42cb-a7d9-d22c5bb00325",
   "metadata": {
    "execution": {
     "iopub.execute_input": "2023-03-12T19:47:25.276779Z",
     "iopub.status.busy": "2023-03-12T19:47:25.276603Z",
     "iopub.status.idle": "2023-03-12T19:47:25.278703Z",
     "shell.execute_reply": "2023-03-12T19:47:25.278355Z",
     "shell.execute_reply.started": "2023-03-12T19:47:25.276764Z"
    },
    "tags": []
   },
   "outputs": [],
   "source": [
    "# ov_pipe.preprocess??\n",
    "# ov_pipe.postprocess??"
   ]
  },
  {
   "cell_type": "code",
   "execution_count": 5,
   "id": "648a8eb1-1d50-4503-8094-c9a88098bee9",
   "metadata": {
    "execution": {
     "iopub.execute_input": "2023-03-12T19:47:25.279302Z",
     "iopub.status.busy": "2023-03-12T19:47:25.279139Z",
     "iopub.status.idle": "2023-03-12T19:47:26.802333Z",
     "shell.execute_reply": "2023-03-12T19:47:26.801969Z",
     "shell.execute_reply.started": "2023-03-12T19:47:25.279288Z"
    },
    "tags": []
   },
   "outputs": [
    {
     "data": {
      "text/plain": [
       "{'score': 0.8515876531600952,\n",
       " 'start': 12,\n",
       " 'end': 64,\n",
       " 'answer': 'a framework for deep learning inference optimization'}"
      ]
     },
     "execution_count": 5,
     "metadata": {},
     "output_type": "execute_result"
    }
   ],
   "source": [
    "from optimum.intel.openvino import OVModelForQuestionAnswering\n",
    "from transformers import AutoTokenizer, pipeline\n",
    "\n",
    "model = OVModelForQuestionAnswering.from_pretrained(\"distilbert-base-uncased-distilled-squad-ov-fp32\")\n",
    "tokenizer = AutoTokenizer.from_pretrained(\"distilbert-base-uncased-distilled-squad\")\n",
    "ov_pipe = pipeline(\"question-answering\", model=model, tokenizer=tokenizer)\n",
    "ov_pipe(\"What is OpenVINO?\", \"OpenVINO is a framework for deep learning inference optimization\")"
   ]
  },
  {
   "cell_type": "markdown",
   "id": "1981a3a9-ef7c-44e5-b3c4-2031b31e3a78",
   "metadata": {
    "execution": {
     "iopub.execute_input": "2023-03-12T10:41:18.543859Z",
     "iopub.status.busy": "2023-03-12T10:41:18.543655Z",
     "iopub.status.idle": "2023-03-12T10:41:18.546473Z",
     "shell.execute_reply": "2023-03-12T10:41:18.545912Z",
     "shell.execute_reply.started": "2023-03-12T10:41:18.543843Z"
    },
    "tags": []
   },
   "source": [
    "#### Running inference by defining the pre-process and post-process steps manually\n",
    "\n",
    "A second way to do inference is to do inference directly and write pre- and postprocessing code yourself. For many models on the Hugging Face Hub the Model Card gives an example, and Hugging Face [model documentation](https://huggingface.co/docs/transformers/index) is a great starting point too.\n",
    "\n",
    "The code below is based on the example of the [distilbert-base-cased-distilled-squad](https://huggingface.co/distilbert-base-cased-distilled-squad) model card and returns the same answer as the pipeline method."
   ]
  },
  {
   "cell_type": "code",
   "execution_count": 6,
   "id": "c5d8d4be-3449-4a78-aa92-56ef2b355572",
   "metadata": {
    "execution": {
     "iopub.execute_input": "2023-03-12T19:47:26.802936Z",
     "iopub.status.busy": "2023-03-12T19:47:26.802808Z",
     "iopub.status.idle": "2023-03-12T19:47:27.259642Z",
     "shell.execute_reply": "2023-03-12T19:47:27.259125Z",
     "shell.execute_reply.started": "2023-03-12T19:47:26.802923Z"
    },
    "tags": []
   },
   "outputs": [
    {
     "data": {
      "text/plain": [
       "'a framework for deep learning inference optimization'"
      ]
     },
     "execution_count": 6,
     "metadata": {},
     "output_type": "execute_result"
    }
   ],
   "source": [
    "import torch\n",
    "from optimum.intel.openvino import OVModelForQuestionAnswering\n",
    "from transformers import AutoTokenizer, pipeline\n",
    "\n",
    "model = OVModelForQuestionAnswering.from_pretrained(\"distilbert-base-uncased-distilled-squad-ov-fp32\")\n",
    "tokenizer = AutoTokenizer.from_pretrained(\"distilbert-base-uncased-distilled-squad-ov-fp32\")\n",
    "\n",
    "question, text = \"What is OpenVINO?\", \"OpenVINO is a framework for deep learning inference optimization\"\n",
    "\n",
    "inputs = tokenizer(question, text, return_tensors=\"pt\")\n",
    "outputs = model(**inputs)\n",
    "\n",
    "answer_start_index = torch.argmax(outputs.start_logits, axis=-1).item()\n",
    "answer_end_index = torch.argmax(outputs.end_logits, axis=-1).item()\n",
    "\n",
    "predict_answer_tokens = inputs.input_ids[0, answer_start_index : answer_end_index + 1]\n",
    "tokenizer.decode(predict_answer_tokens)"
   ]
  },
  {
   "cell_type": "markdown",
   "id": "3cf0a6af-20cc-413b-a9b4-5157adbcc822",
   "metadata": {
    "tags": []
   },
   "source": [
    "### OpenVINO features\n",
    "\n",
    "- For improved performance, it is sometimes useful to reshape the model to use static input shapes\n",
    "- Models can be compressed to FP16, which reduces model size by half, and improves performance on GPU (because GPUs contain optimizations for computations with FP16 data).\n",
    "- OpenVINO supports inference on Intel GPU, either an integrated GPU in your laptop or desktop, or an Intel discrete GPU, for example Intel Arc. \n",
    "\n",
    "By default, when loading a model with `model = OVModelForXxx.from_pretrained(model_id)`, it is compiled on CPU. If you know you want to use GPU inference, static shapes, or FP16, you can set `compile=False` to the `.from_pretrained()` method, to skip the compilation step, as the model will have to be compiled again after steps such as reshaping, fp16 conversion or changing device. The model can then be compile with `model.compile()`. In the case the model was not compiled, it will be automatically done before the first inference, resulting in an increase of the first inference latency, since it will include the model compilation time."
   ]
  },
  {
   "cell_type": "markdown",
   "id": "0d8f1b93-27d8-4dfc-a9a3-2673ab002706",
   "metadata": {},
   "source": [
    "#### Using Static Shapes\n",
    "\n",
    "Using static shapes can sometimes be useful to speed up inference. To reshape the model to use static shapes, use the `.reshape()` method. \n",
    "\n",
    "When a model is reshaped to static shapes, all inputs need to be of that specific shape: inputs that have a shorter sequence length need to be padded, inputs with a longer sequence length need to be truncated. When doing inference without a pipeline, you can set the tokenizer's parameters such as the `padding`, `max_length` and `truncation` accordingly :\n",
    "\n",
    "```\n",
    "inputs = tokenizer(question, text, return_tensors=\"pt\", padding=\"max_length\", max_length=128, truncation=True)\n",
    "```\n",
    "\n",
    "To work seemlessly with a pipeline, the pipeline needs to support settings for padding, maximum sequence length and truncation. Not all pipelines support this at the moment, but support for that is planned. Currently, pipelines for question answering, text classification and image classification work well with static shapes.\n",
    "\n",
    "See Hugging Face's [padding and truncation documentation](https://huggingface.co/docs/transformers/pad_truncation) for more information on the possible values."
   ]
  },
  {
   "cell_type": "code",
   "execution_count": 7,
   "id": "e0754efa-0beb-4060-8633-daecc5ebca31",
   "metadata": {
    "execution": {
     "iopub.execute_input": "2023-03-12T19:47:27.261759Z",
     "iopub.status.busy": "2023-03-12T19:47:27.261529Z",
     "iopub.status.idle": "2023-03-12T19:47:31.027499Z",
     "shell.execute_reply": "2023-03-12T19:47:31.027078Z",
     "shell.execute_reply.started": "2023-03-12T19:47:27.261738Z"
    },
    "tags": []
   },
   "outputs": [
    {
     "data": {
      "text/plain": [
       "{'score': 0.7991431951522827,\n",
       " 'start': 12,\n",
       " 'end': 62,\n",
       " 'answer': 'a toolkit for deep learning inference optimization'}"
      ]
     },
     "execution_count": 7,
     "metadata": {},
     "output_type": "execute_result"
    }
   ],
   "source": [
    "from optimum.intel.openvino import OVModelForQuestionAnswering\n",
    "from transformers import AutoTokenizer, pipeline\n",
    "\n",
    "model = OVModelForQuestionAnswering.from_pretrained(\"helenai/distilbert-base-uncased-distilled-squad-ov-fp32\", compile=False)\n",
    "tokenizer = AutoTokenizer.from_pretrained(\"helenai/distilbert-base-uncased-distilled-squad-ov-fp32\")\n",
    "\n",
    "max_length = 128\n",
    "model.reshape(batch_size=1, sequence_length=max_length)\n",
    "model.compile()\n",
    "\n",
    "ov_pipe = pipeline(\n",
    "    \"question-answering\",\n",
    "    model=model,\n",
    "    tokenizer=tokenizer,\n",
    "    max_seq_len=max_length,\n",
    "    padding=\"max_length\",\n",
    "    truncation=True,\n",
    ")\n",
    "ov_pipe(\"What is OpenVINO?\", \"OpenVINO is a toolkit for deep learning inference optimization\")"
   ]
  },
  {
   "cell_type": "markdown",
   "id": "3a564882-dfd2-4f62-803b-f1e3485736c3",
   "metadata": {},
   "source": [
    "#### Compressing model weights to FP16\n",
    "\n",
    "Compressing model weights saves disk space, and speeds up inference on Intel GPU."
   ]
  },
  {
   "cell_type": "code",
   "execution_count": 8,
   "id": "09f443d5-ff58-416c-ab70-bee16e9f8235",
   "metadata": {
    "execution": {
     "iopub.execute_input": "2023-03-12T19:47:31.028314Z",
     "iopub.status.busy": "2023-03-12T19:47:31.028164Z",
     "iopub.status.idle": "2023-03-12T19:47:32.026899Z",
     "shell.execute_reply": "2023-03-12T19:47:32.026017Z",
     "shell.execute_reply.started": "2023-03-12T19:47:31.028301Z"
    },
    "tags": []
   },
   "outputs": [],
   "source": [
    "model.half()\n",
    "model.save_pretrained(\"distilbert-base-uncased-distilled-squad-ov-fp16\")"
   ]
  },
  {
   "cell_type": "markdown",
   "id": "3e763f45-d28e-4547-b628-2963e45d6c5d",
   "metadata": {},
   "source": [
    "#### Loading Model on GPU\n",
    "\n",
    "For GPU inference, we recommend using FP16. OpenVINO support for dynamic shapes on GPU is in preview mode, so for now we recommend using static shapes.\n",
    "\n",
    "OpenVINO's `Core().available_devices` property shows the supported devices on the system. "
   ]
  },
  {
   "cell_type": "code",
   "execution_count": 9,
   "id": "09f13ef7-2321-47c6-a08f-5fbe61b32b43",
   "metadata": {
    "execution": {
     "iopub.execute_input": "2023-03-12T19:47:32.029229Z",
     "iopub.status.busy": "2023-03-12T19:47:32.028882Z",
     "iopub.status.idle": "2023-03-12T19:47:32.061033Z",
     "shell.execute_reply": "2023-03-12T19:47:32.060524Z",
     "shell.execute_reply.started": "2023-03-12T19:47:32.029205Z"
    },
    "tags": []
   },
   "outputs": [
    {
     "name": "stdout",
     "output_type": "stream",
     "text": [
      "CPU 11th Gen Intel(R) Core(TM) i7-1185G7 @ 3.00GHz\n",
      "GPU Intel(R) Iris(R) Xe Graphics [0x9a49] (iGPU)\n"
     ]
    }
   ],
   "source": [
    "from openvino.runtime import Core\n",
    "\n",
    "for device in Core().available_devices:\n",
    "    print(device, Core().get_property(device, \"FULL_DEVICE_NAME\"))"
   ]
  },
  {
   "cell_type": "code",
   "execution_count": 10,
   "id": "bf5194b5-5e80-4597-85d4-fab72fbed2fa",
   "metadata": {
    "execution": {
     "iopub.execute_input": "2023-03-12T19:47:32.061881Z",
     "iopub.status.busy": "2023-03-12T19:47:32.061689Z",
     "iopub.status.idle": "2023-03-12T19:47:33.067283Z",
     "shell.execute_reply": "2023-03-12T19:47:33.066928Z",
     "shell.execute_reply.started": "2023-03-12T19:47:32.061868Z"
    },
    "tags": []
   },
   "outputs": [
    {
     "name": "stdout",
     "output_type": "stream",
     "text": [
      "GPU\n"
     ]
    }
   ],
   "source": [
    "# Compile the model on GPU if a GPU is found\n",
    "if \"GPU\" in Core().available_devices:\n",
    "    model.half()\n",
    "    model.reshape(1, 28)\n",
    "    model.to(\"gpu\")\n",
    "    model.compile()\n",
    "    print(ov_pipe.model._device)"
   ]
  },
  {
   "cell_type": "markdown",
   "id": "8e3a06fd-e51b-404e-b82a-2557e3db1375",
   "metadata": {},
   "source": [
    "## Part 2: Task Examples\n",
    "\n",
    "In this section, we give a short example for all supported `OVModelForXxx` classes. \n",
    "We use pre-converted models from the Hugging Face Hub that are stored in FP16 format for faster download times.\n",
    "\n",
    "Each task is a standalone example that contains all imports and data, so you can easily copy/paste it to a script or new notebook."
   ]
  },
  {
   "cell_type": "markdown",
   "id": "323d4b66-0b21-45aa-9a27-7d320f1d6a52",
   "metadata": {},
   "source": [
    "### Audio Classification"
   ]
  },
  {
   "cell_type": "markdown",
   "id": "7cc0391e-2b26-4a80-b40d-3c0a9233f198",
   "metadata": {
    "execution": {
     "iopub.execute_input": "2023-03-11T13:22:13.740185Z",
     "iopub.status.busy": "2023-03-11T13:22:13.739593Z",
     "iopub.status.idle": "2023-03-11T13:22:13.742538Z",
     "shell.execute_reply": "2023-03-11T13:22:13.742096Z",
     "shell.execute_reply.started": "2023-03-11T13:22:13.740165Z"
    },
    "tags": []
   },
   "source": [
    "Audio classification is the task of automatically categorizing audio data into classes or categories. See Hugging Face's [audio-classification](https://huggingface.co/tasks/audio-classificationhttps://huggingface.co/tasks/audio-classification) documentation for more information.\n",
    "\n",
    "In this example, we use the [MIT/ast-finetuned-speech-commands-v2](https://huggingface.co/MIT/ast-finetuned-speech-commands-v2) model to do inference on an audio file from the [speech commands](https://huggingface.co/datasets/speech_commands/viewer/v0.01/test) dataset. You can try your own audio file too. To see the classes that this model was trained on, run `model.config.id2label`\n",
    "\n",
    "The model pipeline needs ffmpeg. On Ubuntu Linux: `sudo apt install ffmpeg`; see https://ffmpeg.org/download.html for other OSs"
   ]
  },
  {
   "cell_type": "code",
   "execution_count": 11,
   "id": "570fd296-15a1-437d-97db-76b91407dc3c",
   "metadata": {
    "execution": {
     "iopub.execute_input": "2023-03-12T19:47:33.068965Z",
     "iopub.status.busy": "2023-03-12T19:47:33.068575Z",
     "iopub.status.idle": "2023-03-12T19:47:38.120307Z",
     "shell.execute_reply": "2023-03-12T19:47:38.119775Z",
     "shell.execute_reply.started": "2023-03-12T19:47:33.068947Z"
    },
    "tags": []
   },
   "outputs": [
    {
     "data": {
      "text/html": [
       "\n",
       "                <audio  controls=\"controls\" >\n",
       "                    <source src=\"data:audio/mpeg;base64,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\" type=\"audio/mpeg\" />\n",
       "                    Your browser does not support the audio element.\n",
       "                </audio>\n",
       "              "
      ],
      "text/plain": [
       "<IPython.lib.display.Audio object>"
      ]
     },
     "metadata": {},
     "output_type": "display_data"
    },
    {
     "data": {
      "text/plain": [
       "[{'score': 0.9999880790710449, 'label': 'down'},\n",
       " {'score': 7.452485419889854e-07, 'label': 'five'},\n",
       " {'score': 7.436851205966377e-07, 'label': 'go'}]"
      ]
     },
     "execution_count": 11,
     "metadata": {},
     "output_type": "execute_result"
    }
   ],
   "source": [
    "from IPython.display import Audio\n",
    "from optimum.intel.openvino import OVModelForAudioClassification\n",
    "from transformers import AutoFeatureExtractor, pipeline\n",
    "\n",
    "model_id = \"helenai/MIT-ast-finetuned-speech-commands-v2-ov\"\n",
    "model = OVModelForAudioClassification.from_pretrained(model_id)\n",
    "feature_extractor = AutoFeatureExtractor.from_pretrained(model_id)\n",
    "ov_pipe = pipeline(\"audio-classification\", model=model, feature_extractor=feature_extractor)\n",
    "\n",
    "audio_url_or_file = \"https://datasets-server.huggingface.co/assets/speech_commands/--/v0.01/test/38/audio/audio.mp3\"\n",
    "display(Audio(audio_url_or_file))\n",
    "ov_pipe(audio_url_or_file, top_k=3)"
   ]
  },
  {
   "cell_type": "markdown",
   "id": "d7f36065-db27-42d5-9293-cb8068e973ea",
   "metadata": {},
   "source": [
    "### Text Generation\n",
    "\n",
    "Text generation models complete text from a given prompt. See [Hugging Face's text-generation](https://huggingface.co/tasks/text-generation) documentation for more information.\n",
    "\n",
    "In this example, we use the [https://huggingface.co/gpt2](gpt2) model. Please check out the [model card](https://huggingface.co/gpt2) for this model for more information, including limitations and bias."
   ]
  },
  {
   "cell_type": "code",
   "execution_count": 12,
   "id": "5207a5af-3b53-43b3-ae5e-5b352c0f08d4",
   "metadata": {
    "execution": {
     "iopub.execute_input": "2023-03-12T19:47:38.121136Z",
     "iopub.status.busy": "2023-03-12T19:47:38.120930Z",
     "iopub.status.idle": "2023-03-12T19:47:42.382362Z",
     "shell.execute_reply": "2023-03-12T19:47:42.381733Z",
     "shell.execute_reply.started": "2023-03-12T19:47:38.121116Z"
    },
    "tags": []
   },
   "outputs": [
    {
     "name": "stderr",
     "output_type": "stream",
     "text": [
      "Setting `pad_token_id` to `eos_token_id`:50256 for open-end generation.\n"
     ]
    },
    {
     "data": {
      "text/plain": [
       "[{'generated_text': \"Hello, I'm a language model, so you might consider changing your code to a similar type for Python 2 or 3.\\n\\nWhy Python 2\"},\n",
       " {'generated_text': \"Hello, I'm a language model, so the second statement is true or true. You can also have both. It's not strictly necessary, but\"},\n",
       " {'generated_text': 'Hello, I\\'m a language model, and we\\'re seeing it all in the Java world,\" he added.\\n\\nSo what might happen next?'}]"
      ]
     },
     "execution_count": 12,
     "metadata": {},
     "output_type": "execute_result"
    }
   ],
   "source": [
    "from optimum.intel.openvino import OVModelForCausalLM\n",
    "from transformers import AutoTokenizer, pipeline\n",
    "\n",
    "model_id = \"helenai/gpt2-ov\"\n",
    "tokenizer = AutoTokenizer.from_pretrained(model_id)\n",
    "model = OVModelForCausalLM.from_pretrained(model_id)\n",
    "ov_pipe = pipeline(\"text-generation\", model=model, tokenizer=tokenizer)\n",
    "ov_pipe(\"Hello, I'm a language model,\", max_length=30, num_return_sequences=3)"
   ]
  },
  {
   "cell_type": "markdown",
   "id": "17e91482-1796-4096-9de7-7f33384460c4",
   "metadata": {},
   "source": [
    "### Image Classification\n",
    "\n",
    "Image classification is the task of automatically categorizing image data into classes or categories. See [Hugging Face's image-classification documentation](https://huggingface.co/tasks/image-classification) for more information.\n",
    "\n",
    "In this example we use the [microsoft/swin-tiny-patch4-window7-224](https://huggingface.co/microsoft/swin-tiny-patch4-window7-224) model which was pretrained on [ImageNet](https://en.wikipedia.org/wiki/ImageNet) which contains 1000 classes. Please check out the [model card](https://huggingface.co/microsoft/swin-tiny-patch4-window7-224) for more information about this model.\n",
    "\n",
    "Vision transformer models can have fixed static shapes and result in an error when loading them. We recommend using static shapes and setting `compile=False` on loading the model. The image classification pipeline resizes the images to the size stored in the feature extractor/image processor, so we can reshape the model to that size.\n",
    "\n",
    "For more great images of Coco the dog, see https://www.flickr.com/photos/cococv/"
   ]
  },
  {
   "cell_type": "code",
   "execution_count": 13,
   "id": "97569002-0c0a-4208-9b63-b2bab209fb81",
   "metadata": {
    "execution": {
     "iopub.execute_input": "2023-03-12T19:47:42.383244Z",
     "iopub.status.busy": "2023-03-12T19:47:42.383095Z",
     "iopub.status.idle": "2023-03-12T19:47:48.887705Z",
     "shell.execute_reply": "2023-03-12T19:47:48.887095Z",
     "shell.execute_reply.started": "2023-03-12T19:47:42.383228Z"
    },
    "tags": []
   },
   "outputs": [
    {
     "data": {
      "image/jpeg": "[encoded data removed]",
      "text/plain": [
       "<IPython.core.display.Image object>"
      ]
     },
     "metadata": {},
     "output_type": "display_data"
    },
    {
     "data": {
      "text/plain": [
       "[{'score': 0.4759259521961212, 'label': 'flat-coated retriever'},\n",
       " {'score': 0.10909564793109894, 'label': 'Labrador retriever'},\n",
       " {'score': 0.08196048438549042, 'label': 'Great Dane'}]"
      ]
     },
     "execution_count": 13,
     "metadata": {},
     "output_type": "execute_result"
    }
   ],
   "source": [
    "from IPython.display import Image\n",
    "from optimum.intel.openvino import OVModelForImageClassification\n",
    "from transformers import AutoImageProcessor, pipeline\n",
    "\n",
    "model_id = \"helenai/microsoft-swin-tiny-patch4-window7-224-ov\"\n",
    "model = OVModelForImageClassification.from_pretrained(model_id, compile=False)\n",
    "image_processor = AutoImageProcessor.from_pretrained(model_id)\n",
    "\n",
    "model.reshape(1, 3, image_processor.size[\"height\"], image_processor.size[\"width\"])\n",
    "model.compile()\n",
    "ov_pipe = pipeline(\"image-classification\", model=model, feature_extractor=image_processor)\n",
    "\n",
    "image_url_or_path = \"https://live.staticflickr.com/65535/51120373723_431ea5d1f5_w_d.jpg\"\n",
    "display(Image(image_url_or_path))\n",
    "ov_pipe(image_url_or_path, top_k=3)"
   ]
  },
  {
   "cell_type": "markdown",
   "id": "43cded93-5ee7-4576-bab9-c0c233d91bab",
   "metadata": {},
   "source": [
    "### Masked Language Modeling / Fill Mask\n",
    "\n",
    "Masked language modeling is the task of masking some of the words in a sentence and predicting which words should replace those masks. The masked words are replaced with a token, such as \\[MASK\\]. Doing inference on the model predicts a word to replace the mask token. See [Hugging Face's fill-mask documentation](https://huggingface.co/tasks/fill-mask) for more information.\n",
    "\n",
    "In this example we use the [bert-base-uncased](https://huggingface.co/bert-base-uncased) model. Please check out the [model card](https://huggingface.co/bert-base-uncased) for this model for more information, including limitations and bias."
   ]
  },
  {
   "cell_type": "code",
   "execution_count": 14,
   "id": "1cd9423b-3cba-4cf9-b58a-bffbde08738d",
   "metadata": {
    "execution": {
     "iopub.execute_input": "2023-03-12T19:47:48.888614Z",
     "iopub.status.busy": "2023-03-12T19:47:48.888417Z",
     "iopub.status.idle": "2023-03-12T19:47:52.868441Z",
     "shell.execute_reply": "2023-03-12T19:47:52.867833Z",
     "shell.execute_reply.started": "2023-03-12T19:47:48.888595Z"
    },
    "tags": []
   },
   "outputs": [
    {
     "data": {
      "text/plain": [
       "[{'score': 0.0960492491722107,\n",
       "  'token': 4827,\n",
       "  'token_str': 'fashion',\n",
       "  'sequence': 'i am a fashion model'},\n",
       " {'score': 0.09326528012752533,\n",
       "  'token': 2535,\n",
       "  'token_str': 'role',\n",
       "  'sequence': 'i am a role model'}]"
      ]
     },
     "execution_count": 14,
     "metadata": {},
     "output_type": "execute_result"
    }
   ],
   "source": [
    "from optimum.intel.openvino import OVModelForMaskedLM\n",
    "from transformers import AutoTokenizer, pipeline\n",
    "\n",
    "model_id = \"helenai/bert-base-uncased-ov\"\n",
    "model = OVModelForMaskedLM.from_pretrained(model_id)\n",
    "tokenizer = AutoTokenizer.from_pretrained(model_id)\n",
    "ov_pipe = pipeline(\"fill-mask\", model=model, tokenizer=tokenizer)\n",
    "\n",
    "sentence = f\"I am a {tokenizer.mask_token} model\"\n",
    "ov_pipe(sentence, top_k=2)"
   ]
  },
  {
   "cell_type": "markdown",
   "id": "949aa1df-53e7-4402-adc0-bc3d1ba2c6b8",
   "metadata": {
    "execution": {
     "iopub.execute_input": "2023-03-12T13:30:06.134777Z",
     "iopub.status.busy": "2023-03-12T13:30:06.134530Z",
     "iopub.status.idle": "2023-03-12T13:30:06.136960Z",
     "shell.execute_reply": "2023-03-12T13:30:06.136622Z",
     "shell.execute_reply.started": "2023-03-12T13:30:06.134750Z"
    },
    "tags": []
   },
   "source": [
    "### Question Answering\n",
    "\n",
    "Question Answering models predict an answer based on a question. Question-answering models based on the BERT architecture, like we use in this example, require a question and a context which contains the answer. See [Hugging Face's question-answering documentation](https://huggingface.co/tasks/question-answering) for more information.\n",
    "\n",
    "In this example we use the [distilbert-base-uncased-distilled-squad](https://huggingface.co/distilbert-base-uncased-distilled-squad) model. Refer to the [model card](https://huggingface.co/distilbert-base-uncased-distilled-squad) for more information about this model, including risks, limitations and biases.\n",
    "\n",
    "To use static shapes with question-answering models, add the `max_seq_len` parameter to the `pipeline()` call. For example: \n",
    "\n",
    "```python\n",
    "pipeline(\"question-answering\", model=model, tokenizer=tokenizer, max_seq_len=256, padding=\"max_length\", truncation=True)\n",
    "```"
   ]
  },
  {
   "cell_type": "code",
   "execution_count": 15,
   "id": "5d9cedee-902c-41b2-b6ef-1c04bbd8498e",
   "metadata": {
    "execution": {
     "iopub.execute_input": "2023-03-12T19:47:52.869399Z",
     "iopub.status.busy": "2023-03-12T19:47:52.869151Z",
     "iopub.status.idle": "2023-03-12T19:47:53.395475Z",
     "shell.execute_reply": "2023-03-12T19:47:53.394997Z",
     "shell.execute_reply.started": "2023-03-12T19:47:52.869376Z"
    },
    "tags": []
   },
   "outputs": [
    {
     "data": {
      "text/plain": [
       "{'score': 0.5305245518684387,\n",
       " 'start': 12,\n",
       " 'end': 75,\n",
       " 'answer': 'an open source toolkit for deep learning inference optimization'}"
      ]
     },
     "execution_count": 15,
     "metadata": {},
     "output_type": "execute_result"
    }
   ],
   "source": [
    "from optimum.intel.openvino import OVModelForQuestionAnswering\n",
    "from transformers import AutoTokenizer, pipeline\n",
    "\n",
    "# Load the model and tokenizer saved in Part 1 of this notebook. Or use the line below to load them from the hub\n",
    "# model_id = \"helenai/distilbert-base-uncased-distilled-squad-ov-fp32\"\n",
    "model_id = \"distilbert-base-uncased-distilled-squad-ov-fp32\"\n",
    "model = OVModelForQuestionAnswering.from_pretrained(model_id)\n",
    "tokenizer = AutoTokenizer.from_pretrained(model_id)\n",
    "ov_pipe = pipeline(\"question-answering\", model=model, tokenizer=tokenizer)\n",
    "ov_pipe(\"What is OpenVINO?\", \"OpenVINO is an open source toolkit for deep learning inference optimization.\")"
   ]
  },
  {
   "cell_type": "markdown",
   "id": "e6fa402f-8a5b-435b-a460-6528b052ef89",
   "metadata": {},
   "source": [
    "### Sequence-to-sequence (Seq2Seq)\n",
    "\n",
    "Sequence to Sequence, or encoder-decoder, models can do different tasks, such as translation, summarization and question answering. The [Hugging Face Course](https://huggingface.co/course/chapter1/1) has a great [7 minute video](https://huggingface.co/course/chapter1/7?fw=pt) which explains more about this class of models.\n",
    "\n",
    "In this example we use the [t5-small](https://huggingface.co/t5-small) model to show translation from English to German and English to French. Refer to the [model card](https://huggingface.co/t5-small) and the [T5 documentation](https://huggingface.co/docs/transformers/model_doc/t5#transformers.T5Model) for more information on this model.\n",
    "\n",
    "For encoder/decoder models, the `model.generate()` method is a powerful way to do inference. Pipelines are also supported. In this example we show how to use both methods."
   ]
  },
  {
   "cell_type": "code",
   "execution_count": 16,
   "id": "755096b0-406d-4167-8642-5b4b093e2bc5",
   "metadata": {
    "execution": {
     "iopub.execute_input": "2023-03-12T19:47:53.396122Z",
     "iopub.status.busy": "2023-03-12T19:47:53.395987Z",
     "iopub.status.idle": "2023-03-12T19:48:00.052492Z",
     "shell.execute_reply": "2023-03-12T19:48:00.052125Z",
     "shell.execute_reply.started": "2023-03-12T19:47:53.396109Z"
    },
    "tags": []
   },
   "outputs": [
    {
     "data": {
      "text/plain": [
       "'Das Haus ist wunderbar.'"
      ]
     },
     "execution_count": 16,
     "metadata": {},
     "output_type": "execute_result"
    }
   ],
   "source": [
    "from optimum.intel.openvino import OVModelForSeq2SeqLM\n",
    "from transformers import AutoTokenizer, pipeline\n",
    "\n",
    "model_id = \"helenai/t5-small-ov\"\n",
    "model = OVModelForSeq2SeqLM.from_pretrained(model_id, compile=False)\n",
    "tokenizer = AutoTokenizer.from_pretrained(model_id)\n",
    "\n",
    "input_ids = tokenizer(\"translate English to German: This house is wonderful.\", return_tensors=\"pt\").input_ids\n",
    "outputs = model.generate(input_ids, max_new_tokens=10)\n",
    "tokenizer.decode(outputs[0], skip_special_tokens=True)"
   ]
  },
  {
   "cell_type": "code",
   "execution_count": 17,
   "id": "c0f096f2-0cd3-40ab-9661-1c7209c6a670",
   "metadata": {
    "execution": {
     "iopub.execute_input": "2023-03-12T19:48:00.053145Z",
     "iopub.status.busy": "2023-03-12T19:48:00.052965Z",
     "iopub.status.idle": "2023-03-12T19:48:00.056985Z",
     "shell.execute_reply": "2023-03-12T19:48:00.056530Z",
     "shell.execute_reply.started": "2023-03-12T19:48:00.053133Z"
    },
    "tags": []
   },
   "outputs": [
    {
     "data": {
      "text/plain": [
       "['summarization',\n",
       " 'translation_en_to_de',\n",
       " 'translation_en_to_fr',\n",
       " 'translation_en_to_ro']"
      ]
     },
     "execution_count": 17,
     "metadata": {},
     "output_type": "execute_result"
    }
   ],
   "source": [
    "# Show the pipeline tasks for this model\n",
    "list(model.config.task_specific_params.keys())"
   ]
  },
  {
   "cell_type": "code",
   "execution_count": 18,
   "id": "ebf97e9c-d1e1-4908-8a3a-bad24ee3a34f",
   "metadata": {
    "execution": {
     "iopub.execute_input": "2023-03-12T19:48:00.057929Z",
     "iopub.status.busy": "2023-03-12T19:48:00.057694Z",
     "iopub.status.idle": "2023-03-12T19:48:00.399891Z",
     "shell.execute_reply": "2023-03-12T19:48:00.399417Z",
     "shell.execute_reply.started": "2023-03-12T19:48:00.057914Z"
    },
    "tags": []
   },
   "outputs": [
    {
     "data": {
      "text/plain": [
       "[{'translation_text': \"Qu'est-ce qu'un modèle de séquence à séquence?\"}]"
      ]
     },
     "execution_count": 18,
     "metadata": {},
     "output_type": "execute_result"
    }
   ],
   "source": [
    "ov_pipe = pipeline(\"translation_en_to_fr\", model=model, tokenizer=tokenizer)\n",
    "ov_pipe(\"What is a sequence to sequence model?\")"
   ]
  },
  {
   "cell_type": "markdown",
   "id": "e6bc49b3-9d16-45b4-a927-9bb37273c455",
   "metadata": {},
   "source": [
    "### Text/Sequence Classification\n",
    "\n",
    "Sequence classification is the task of automatically classifiying text sequences, such as sentences, into classes or categories. See Hugging Face's [text-classification documentation](https://huggingface.co/tasks/text-classification) for more information.\n",
    "\n",
    "In this example we use the [papluca/xlm-roberta-base-language-detectionpapluca/xlm-roberta-base-language-detection](https://huggingface.co/papluca/xlm-roberta-base-language-detection) model. Given a sentence, the model predicts which language out of 20 supported languages the sentence belongs to. Please check out the [model card](https://huggingface.co/papluca/xlm-roberta-base-language-detection) for more information about the model. \n",
    "\n",
    "To use static shapes with text classification models, add the `max_length` parameter to the `pipeline()` call. For example: \n",
    "\n",
    "```python\n",
    "pipeline(\"text-classification\", model=model, tokenizer=tokenizer, max_length=128, padding=\"max_length\", truncation=True)\n",
    "```"
   ]
  },
  {
   "cell_type": "code",
   "execution_count": 19,
   "id": "59df852f-e9bb-4f96-91d9-23f4e4577ea0",
   "metadata": {
    "execution": {
     "iopub.execute_input": "2023-03-12T19:48:00.400753Z",
     "iopub.status.busy": "2023-03-12T19:48:00.400401Z",
     "iopub.status.idle": "2023-03-12T19:48:04.459054Z",
     "shell.execute_reply": "2023-03-12T19:48:04.458437Z",
     "shell.execute_reply.started": "2023-03-12T19:48:00.400729Z"
    },
    "tags": []
   },
   "outputs": [
    {
     "data": {
      "text/plain": [
       "[{'label': 'nl', 'score': 0.994126558303833}]"
      ]
     },
     "execution_count": 19,
     "metadata": {},
     "output_type": "execute_result"
    }
   ],
   "source": [
    "from optimum.intel.openvino import OVModelForSequenceClassification\n",
    "from transformers import AutoTokenizer, pipeline\n",
    "\n",
    "model_id = \"helenai/papluca-xlm-roberta-base-language-detection-ov\"\n",
    "model = OVModelForSequenceClassification.from_pretrained(model_id)\n",
    "tokenizer = AutoTokenizer.from_pretrained(model_id)\n",
    "ov_pipe = pipeline(\"text-classification\", model=model, tokenizer=tokenizer)\n",
    "\n",
    "# this is a Dutch (nl) sentence, it means \"hello world!\"\n",
    "ov_pipe(\"hallo wereld!\")"
   ]
  },
  {
   "cell_type": "markdown",
   "id": "4a94cd67-d159-40a1-9e73-316b4b493f13",
   "metadata": {},
   "source": [
    "### Token Classification\n",
    "\n",
    "While text/sequence classification classifies an entire sentence, token classification is the task of automatically classifying different parts of a sentence. See [Hugging Face's token-classification documentation](https://huggingface.co/tasks/token-classification) for more information.\n",
    "\n",
    "In this example we use the [dslim/bert-base-NER](https://huggingface.co/dslim/bert-base-NER) model, which recognizes persons, organizations and locations. Please see the [model card](https://huggingface.co/dslim/bert-base-NER) for more information about this model including its limitations."
   ]
  },
  {
   "cell_type": "code",
   "execution_count": 20,
   "id": "87f633c0-3334-4ef0-942a-5bdec807568d",
   "metadata": {
    "execution": {
     "iopub.execute_input": "2023-03-12T19:48:04.459956Z",
     "iopub.status.busy": "2023-03-12T19:48:04.459670Z",
     "iopub.status.idle": "2023-03-12T19:48:07.863986Z",
     "shell.execute_reply": "2023-03-12T19:48:07.863615Z",
     "shell.execute_reply.started": "2023-03-12T19:48:04.459935Z"
    },
    "tags": []
   },
   "outputs": [
    {
     "name": "stdout",
     "output_type": "stream",
     "text": [
      "{'entity': 'B-PER', 'score': 0.99901474, 'index': 4, 'word': 'Wolfgang', 'start': 11, 'end': 19}\n",
      "{'entity': 'B-LOC', 'score': 0.999645, 'index': 9, 'word': 'Berlin', 'start': 34, 'end': 40}\n"
     ]
    }
   ],
   "source": [
    "from optimum.intel.openvino import OVModelForTokenClassification\n",
    "from transformers import AutoTokenizer, pipeline\n",
    "\n",
    "model_id = \"helenai/dslim-bert-base-NER-ov-fp32\"\n",
    "tokenizer = AutoTokenizer.from_pretrained(model_id)\n",
    "model = OVModelForTokenClassification.from_pretrained(model_id)\n",
    "ov_pipe = pipeline(\"token-classification\", model=model, tokenizer=tokenizer)\n",
    "result = ov_pipe(\"My name is Wolfgang and I live in Berlin\")\n",
    "for item in result:\n",
    "    print(item)"
   ]
  },
  {
   "cell_type": "markdown",
   "id": "f924a929-b518-405a-b078-1133131412ef",
   "metadata": {},
   "source": [
    "## References\n",
    "\n",
    "- [Optimum OpenVINO Inference](https://huggingface.co/docs/optimum/intel/inference) in Hugging Face Optimum documentation\n",
    "- [API documentation for the OpenVINO integration into Optimum](https://huggingface.co/docs/optimum/intel/reference_ov)\n",
    "\n",
    "## Next Steps\n",
    "\n",
    "Learn how to quantize models for faster inference with OpenVINO\n",
    "- Documentation: [Model Optimization with NNCF](https://huggingface.co/docs/optimum/intel/optimization_ov)\n",
    "- Notebook: [Post Training Quantization of a question-answering model](https://github.com/huggingface/optimum-intel/blob/main/notebooks/openvino/question_answering_quantization.ipynb)\n",
    "- Examples: [Quantization Aware Training examples](https://github.com/huggingface/optimum-intel/tree/main/examples/openvino)"
   ]
  }
 ],
 "metadata": {
  "kernelspec": {
   "display_name": "Python 3 (ipykernel)",
   "language": "python",
   "name": "python3"
  },
  "language_info": {
   "codemirror_mode": {
    "name": "ipython",
    "version": 3
   },
   "file_extension": ".py",
   "mimetype": "text/x-python",
   "name": "python",
   "nbconvert_exporter": "python",
   "pygments_lexer": "ipython3",
   "version": "3.10.6"
  },
  "widgets": {
   "application/vnd.jupyter.widget-state+json": {
    "state": {},
    "version_major": 2,
    "version_minor": 0
   }
  }
 },
 "nbformat": 4,
 "nbformat_minor": 5
}
