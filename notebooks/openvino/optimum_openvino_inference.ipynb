{
 "cells": [
  {
   "cell_type": "markdown",
   "id": "d86d561a-4ea0-4d0e-ba17-4fed76a29567",
   "metadata": {},
   "source": [
    "# OpenVINO Inference with 🤗 Optimum\n",
    "\n",
    "This notebook is a playground for running inference with OpenVINO on Transformers models with Optimum. The first part of this notebook explains the different ways to load a model, and some options specific to OpenVINO, like doing inference on an Intel GPU. The second part of this notebook consists of small examples for different supported tasks. \n",
    "\n",
    "Do not forget to install the required dependencies before running this notebook by uncommenting the cell below to install these requirements in your current Python environment. The audio classification example requires [ffmpeg](https://ffmpeg.org/download.html)."
   ]
  },
  {
   "cell_type": "code",
   "execution_count": 1,
   "id": "6a6774ad-912b-4053-b7f6-14dc020807ef",
   "metadata": {
    "tags": []
   },
   "outputs": [],
   "source": [
    "# %pip install optimum[openvino] ipywidgets pillow torchaudio soundfile librosa"
   ]
  },
  {
   "cell_type": "markdown",
   "id": "b432e17f-48d1-4676-bb97-9060d683aa83",
   "metadata": {
    "tags": []
   },
   "source": [
    "## Part 1: Inference with OpenVINO\n",
    "\n",
    "To load an OpenVINO model, you can just replace the Transformers `AutoModelForXxx` class with the corresponding Optimum `OVModelForXxx` class. This will allow you to load models hosted locally or from the Hugging Face [Hub](https://huggingface.co/models).\n",
    "\n",
    "The method can be used to load OpenVINO models (stored as openvino_model.xml and openvino_model.bin) and PyTorch models (stored as pytorch_model.bin). To load a PyTorch model and convert it to the OpenVINO format on-the-fly, you can set export=True when loading your model. Don't forget to save the resulting OpenVINO model, using the `.save_pretrained(save_dir)` method. The OpenVINO model will be saved in the `save_dir` directory.\n",
    "\n",
    "For faster model loading, we recommend to always save the converted model, avoiding to convert the models multiple times."
   ]
  },
  {
   "cell_type": "code",
   "execution_count": 2,
   "id": "0c89b2a2-ce31-4773-9454-3e0e57d1a231",
   "metadata": {
    "tags": []
   },
   "outputs": [
    {
     "name": "stderr",
     "output_type": "stream",
     "text": [
      "/home/helena/venvs/openvino_env/lib/python3.10/site-packages/transformers/utils/generic.py:441: UserWarning: torch.utils._pytree._register_pytree_node is deprecated. Please use torch.utils._pytree.register_pytree_node instead.\n",
      "  _torch_pytree._register_pytree_node(\n",
      "/home/helena/venvs/openvino_env/lib/python3.10/site-packages/transformers/utils/generic.py:309: UserWarning: torch.utils._pytree._register_pytree_node is deprecated. Please use torch.utils._pytree.register_pytree_node instead.\n",
      "  _torch_pytree._register_pytree_node(\n",
      "/home/helena/venvs/openvino_env/lib/python3.10/site-packages/transformers/utils/generic.py:309: UserWarning: torch.utils._pytree._register_pytree_node is deprecated. Please use torch.utils._pytree.register_pytree_node instead.\n",
      "  _torch_pytree._register_pytree_node(\n",
      "/home/helena/venvs/openvino_env/lib/python3.10/site-packages/diffusers/utils/outputs.py:63: UserWarning: torch.utils._pytree._register_pytree_node is deprecated. Please use torch.utils._pytree.register_pytree_node instead.\n",
      "  torch.utils._pytree._register_pytree_node(\n",
      "/home/helena/venvs/openvino_env/lib/python3.10/site-packages/diffusers/utils/outputs.py:63: UserWarning: torch.utils._pytree._register_pytree_node is deprecated. Please use torch.utils._pytree.register_pytree_node instead.\n",
      "  torch.utils._pytree._register_pytree_node(\n",
      "/home/helena/venvs/openvino_env/lib/python3.10/site-packages/transformers/utils/generic.py:309: UserWarning: torch.utils._pytree._register_pytree_node is deprecated. Please use torch.utils._pytree.register_pytree_node instead.\n",
      "  _torch_pytree._register_pytree_node(\n",
      "Framework not specified. Using pt to export the model.\n",
      "Using the export variant default. Available variants are:\n",
      "    - default: The default ONNX variant.\n",
      "Using framework PyTorch: 2.2.0+cpu\n",
      "/home/helena/venvs/openvino_env/lib/python3.10/site-packages/transformers/models/distilbert/modeling_distilbert.py:246: TracerWarning: torch.tensor results are registered as constants in the trace. You can safely ignore this warning if you use this function to create tensors out of constant variables that would be the same every time you call this function. In any other case, this might cause the trace to be incorrect.\n",
      "  mask, torch.tensor(torch.finfo(scores.dtype).min)\n",
      "Compiling the model to CPU ...\n",
      "Compiling the model to CPU ...\n"
     ]
    }
   ],
   "source": [
    "from optimum.intel import OVModelForQuestionAnswering\n",
    "\n",
    "# Load PyTorch model from the Hub and export to OpenVINO in the background\n",
    "model = OVModelForQuestionAnswering.from_pretrained(\"distilbert-base-uncased-distilled-squad\", export=True)\n",
    "\n",
    "# Save the converted model to a local directory\n",
    "model.save_pretrained(\"distilbert-base-uncased-distilled-squad-ov-fp32\")\n",
    "\n",
    "# Load the OpenVINO model directly from the directory\n",
    "model = OVModelForQuestionAnswering.from_pretrained(\"distilbert-base-uncased-distilled-squad-ov-fp32\")"
   ]
  },
  {
   "cell_type": "markdown",
   "id": "0d8be7bd-1be2-4f42-9fa9-49e5edbe875e",
   "metadata": {},
   "source": [
    "To convert input data like text and images to numeric values that the model expects, a preprocessor is used. For text models this is a Tokenizer, for image models an ImageProcessor, for audio models a FeatureExtractor. It is useful to save the preprocessor for a particular model in the same directory as the model, to facilitate the loading."
   ]
  },
  {
   "cell_type": "code",
   "execution_count": 3,
   "id": "8053abe3-0e1f-445d-8397-630efac28269",
   "metadata": {
    "tags": []
   },
   "outputs": [
    {
     "data": {
      "text/plain": [
       "('distilbert-base-uncased-distilled-squad-ov-fp32/tokenizer_config.json',\n",
       " 'distilbert-base-uncased-distilled-squad-ov-fp32/special_tokens_map.json',\n",
       " 'distilbert-base-uncased-distilled-squad-ov-fp32/vocab.txt',\n",
       " 'distilbert-base-uncased-distilled-squad-ov-fp32/added_tokens.json',\n",
       " 'distilbert-base-uncased-distilled-squad-ov-fp32/tokenizer.json')"
      ]
     },
     "execution_count": 3,
     "metadata": {},
     "output_type": "execute_result"
    }
   ],
   "source": [
    "from transformers import AutoTokenizer\n",
    "\n",
    "tokenizer = AutoTokenizer.from_pretrained(\"distilbert-base-uncased-distilled-squad\")\n",
    "tokenizer.save_pretrained(\"distilbert-base-uncased-distilled-squad-ov-fp32\")"
   ]
  },
  {
   "cell_type": "markdown",
   "id": "fed955ed-4b88-4bf5-984a-6317f24bd0d4",
   "metadata": {},
   "source": [
    "### Run Inference\n",
    "\n",
    "\n",
    "#### Running inference with Transformers Pipelines\n",
    "\n",
    "The easiest way to do inference on Transformers model is by using Transformers [pipelines](https://huggingface.co/docs/transformers/main/en/pipeline_tutorial), which takes care of both the pre-processing and post-processing steps. For example, for a question-answering model, you give it a question and a context, and it returns an answer; for an image classification model, you give it a path to an image and it returns the classification prediction for that image..\n"
   ]
  },
  {
   "cell_type": "code",
   "execution_count": 4,
   "id": "dcf7a5c3-81ba-42cb-a7d9-d22c5bb00325",
   "metadata": {
    "tags": []
   },
   "outputs": [],
   "source": [
    "# ov_pipe.preprocess??\n",
    "# ov_pipe.postprocess??"
   ]
  },
  {
   "cell_type": "code",
   "execution_count": 5,
   "id": "648a8eb1-1d50-4503-8094-c9a88098bee9",
   "metadata": {
    "tags": []
   },
   "outputs": [
    {
     "name": "stderr",
     "output_type": "stream",
     "text": [
      "Compiling the model to CPU ...\n"
     ]
    },
    {
     "data": {
      "text/plain": [
       "{'score': 0.8515874147415161,\n",
       " 'start': 12,\n",
       " 'end': 64,\n",
       " 'answer': 'a framework for deep learning inference optimization'}"
      ]
     },
     "execution_count": 5,
     "metadata": {},
     "output_type": "execute_result"
    }
   ],
   "source": [
    "from optimum.intel import OVModelForQuestionAnswering\n",
    "from transformers import AutoTokenizer, pipeline\n",
    "\n",
    "model = OVModelForQuestionAnswering.from_pretrained(\"distilbert-base-uncased-distilled-squad-ov-fp32\")\n",
    "tokenizer = AutoTokenizer.from_pretrained(\"distilbert-base-uncased-distilled-squad\")\n",
    "ov_pipe = pipeline(\"question-answering\", model=model, tokenizer=tokenizer)\n",
    "ov_pipe(\"What is OpenVINO?\", \"OpenVINO is a framework for deep learning inference optimization\")"
   ]
  },
  {
   "cell_type": "markdown",
   "id": "1981a3a9-ef7c-44e5-b3c4-2031b31e3a78",
   "metadata": {
    "execution": {
     "iopub.execute_input": "2023-03-12T10:41:18.543859Z",
     "iopub.status.busy": "2023-03-12T10:41:18.543655Z",
     "iopub.status.idle": "2023-03-12T10:41:18.546473Z",
     "shell.execute_reply": "2023-03-12T10:41:18.545912Z",
     "shell.execute_reply.started": "2023-03-12T10:41:18.543843Z"
    },
    "tags": []
   },
   "source": [
    "#### Running inference by defining the pre-process and post-process steps manually\n",
    "\n",
    "A second way to do inference is to do inference directly and write pre- and postprocessing code yourself. For many models on the Hugging Face Hub the Model Card gives an example, and Hugging Face [model documentation](https://huggingface.co/docs/transformers/index) is a great starting point too.\n",
    "\n",
    "The code below is based on the example of the [distilbert-base-cased-distilled-squad](https://huggingface.co/distilbert-base-cased-distilled-squad) model card and returns the same answer as the pipeline method."
   ]
  },
  {
   "cell_type": "code",
   "execution_count": 6,
   "id": "c5d8d4be-3449-4a78-aa92-56ef2b355572",
   "metadata": {
    "tags": []
   },
   "outputs": [
    {
     "name": "stderr",
     "output_type": "stream",
     "text": [
      "Compiling the model to CPU ...\n"
     ]
    },
    {
     "data": {
      "text/plain": [
       "'a framework for deep learning inference optimization'"
      ]
     },
     "execution_count": 6,
     "metadata": {},
     "output_type": "execute_result"
    }
   ],
   "source": [
    "import torch\n",
    "from optimum.intel import OVModelForQuestionAnswering\n",
    "from transformers import AutoTokenizer, pipeline\n",
    "\n",
    "model = OVModelForQuestionAnswering.from_pretrained(\"distilbert-base-uncased-distilled-squad-ov-fp32\")\n",
    "tokenizer = AutoTokenizer.from_pretrained(\"distilbert-base-uncased-distilled-squad-ov-fp32\")\n",
    "\n",
    "question, text = \"What is OpenVINO?\", \"OpenVINO is a framework for deep learning inference optimization\"\n",
    "\n",
    "inputs = tokenizer(question, text, return_tensors=\"pt\")\n",
    "outputs = model(**inputs)\n",
    "\n",
    "answer_start_index = torch.argmax(outputs.start_logits, axis=-1).item()\n",
    "answer_end_index = torch.argmax(outputs.end_logits, axis=-1).item()\n",
    "\n",
    "predict_answer_tokens = inputs.input_ids[0, answer_start_index : answer_end_index + 1]\n",
    "tokenizer.decode(predict_answer_tokens)"
   ]
  },
  {
   "cell_type": "markdown",
   "id": "3cf0a6af-20cc-413b-a9b4-5157adbcc822",
   "metadata": {
    "tags": []
   },
   "source": [
    "### OpenVINO features\n",
    "\n",
    "- For improved performance, it is sometimes useful to reshape the model to use static input shapes\n",
    "- On GPU, inference uses FP16 by default (GPUs contain optimizations for computations with FP16 data). On 4th generation and later Intel® Xeon® Scalable Processors, inference uses BF16 by default. \n",
    "- OpenVINO supports inference on Intel GPU, either an integrated GPU in your laptop or desktop, or an Intel discrete GPU, for example Intel Arc. \n",
    "\n",
    "By default, when loading a model with `model = OVModelForXxx.from_pretrained(model_id)`, it is compiled on CPU. If you need to modify the model, for example to use static shapes, you can set `compile=False` to the `.from_pretrained()` method, to skip the compilation step, as the model will have to be compiled again after steps such as reshaping or changing device. The model can then be compile with `model.compile()`. In the case the model was not compiled, it will be automatically done before the first inference, resulting in an increase of the first inference latency, since it will include the model compilation time."
   ]
  },
  {
   "cell_type": "markdown",
   "id": "0d8f1b93-27d8-4dfc-a9a3-2673ab002706",
   "metadata": {},
   "source": [
    "#### Using Static Shapes\n",
    "\n",
    "Using static shapes can sometimes be useful to speed up inference. To reshape the model to use static shapes, use the `.reshape()` method. \n",
    "\n",
    "When a model is reshaped to static shapes, all inputs need to be of that specific shape: inputs that have a shorter sequence length need to be padded, inputs with a longer sequence length need to be truncated. When doing inference without a pipeline, you can set the tokenizer's parameters such as the `padding`, `max_length` and `truncation` accordingly :\n",
    "\n",
    "```\n",
    "inputs = tokenizer(question, text, return_tensors=\"pt\", padding=\"max_length\", max_length=128, truncation=True)\n",
    "```\n",
    "\n",
    "To work seemlessly with a pipeline, the pipeline needs to support settings for padding, maximum sequence length and truncation. Not all pipelines support this at the moment, but support for that is planned. Currently, pipelines for question answering, text classification and image classification work well with static shapes.\n",
    "\n",
    "See Hugging Face's [padding and truncation documentation](https://huggingface.co/docs/transformers/pad_truncation) for more information on the possible values."
   ]
  },
  {
   "cell_type": "code",
   "execution_count": 7,
   "id": "e0754efa-0beb-4060-8633-daecc5ebca31",
   "metadata": {
    "tags": []
   },
   "outputs": [
    {
     "name": "stderr",
     "output_type": "stream",
     "text": [
      "Compiling the model to CPU ...\n"
     ]
    },
    {
     "data": {
      "text/plain": [
       "{'score': 0.7991424798965454,\n",
       " 'start': 12,\n",
       " 'end': 62,\n",
       " 'answer': 'a toolkit for deep learning inference optimization'}"
      ]
     },
     "execution_count": 7,
     "metadata": {},
     "output_type": "execute_result"
    }
   ],
   "source": [
    "from optimum.intel import OVModelForQuestionAnswering\n",
    "from transformers import AutoTokenizer, pipeline\n",
    "\n",
    "model = OVModelForQuestionAnswering.from_pretrained(\n",
    "    \"helenai/distilbert-base-uncased-distilled-squad-ov-fp32\", compile=False\n",
    ")\n",
    "tokenizer = AutoTokenizer.from_pretrained(\"helenai/distilbert-base-uncased-distilled-squad-ov-fp32\")\n",
    "\n",
    "max_length = 128\n",
    "model.reshape(batch_size=1, sequence_length=max_length)\n",
    "model.compile()\n",
    "\n",
    "ov_pipe = pipeline(\n",
    "    \"question-answering\",\n",
    "    model=model,\n",
    "    tokenizer=tokenizer,\n",
    "    max_seq_len=max_length,\n",
    "    padding=\"max_length\",\n",
    "    truncation=True,\n",
    ")\n",
    "ov_pipe(\"What is OpenVINO?\", \"OpenVINO is a toolkit for deep learning inference optimization\")"
   ]
  },
  {
   "cell_type": "markdown",
   "id": "8798b8d5-50ad-439f-a1d8-886d579a91fe",
   "metadata": {},
   "source": [
    "#### Saving Model in FP16 format\n",
    "\n",
    "`model.half()` converts the model weights to FP16 precision. This reduces the size of the model by half, with usually a negligible impact on accuracy."
   ]
  },
  {
   "cell_type": "code",
   "execution_count": 8,
   "id": "09f443d5-ff58-416c-ab70-bee16e9f8235",
   "metadata": {
    "tags": []
   },
   "outputs": [],
   "source": [
    "model.half()\n",
    "model.save_pretrained(\"distilbert-base-uncased-distilled-squad-ov-fp16\")"
   ]
  },
  {
   "cell_type": "markdown",
   "id": "3e763f45-d28e-4547-b628-2963e45d6c5d",
   "metadata": {},
   "source": [
    "#### Loading Model on GPU\n",
    "\n",
    "A model can be loaded to GPU by using `model.to(\"GPU\")` or by passing `device` to `from_pretrained()`.\n",
    "\n",
    "GPU inference will automatically run with FP16 precision, regardless of the precision of the weights of the model. To override this, and force FP32 precision you can pass an `ov_config` argument to `.from_pretrained()`: \n",
    "\n",
    "```\n",
    "model = OVModelForQuestionAnswering.from_pretrained(model_id,\n",
    "    device_name=\"GPU\",\n",
    "    ov_config={\"INFERENCE_PRECISION_HINT\": \"f32\"}\n",
    ")\n",
    "```\n",
    "\n",
    "OpenVINO's `Core().available_devices` property shows the supported devices on the system. "
   ]
  },
  {
   "cell_type": "code",
   "execution_count": 9,
   "id": "09f13ef7-2321-47c6-a08f-5fbe61b32b43",
   "metadata": {
    "tags": []
   },
   "outputs": [
    {
     "name": "stdout",
     "output_type": "stream",
     "text": [
      "CPU 11th Gen Intel(R) Core(TM) i7-1185G7 @ 3.00GHz\n",
      "GPU Intel(R) Iris(R) Xe Graphics (iGPU)\n"
     ]
    }
   ],
   "source": [
    "from openvino.runtime import Core\n",
    "\n",
    "for device in Core().available_devices:\n",
    "    print(device, Core().get_property(device, \"FULL_DEVICE_NAME\"))"
   ]
  },
  {
   "cell_type": "code",
   "execution_count": 10,
   "id": "bf5194b5-5e80-4597-85d4-fab72fbed2fa",
   "metadata": {
    "tags": []
   },
   "outputs": [
    {
     "name": "stderr",
     "output_type": "stream",
     "text": [
      "Compiling the model to GPU ...\n",
      "Setting OpenVINO CACHE_DIR to /home/helena/.cache/huggingface/hub/models--helenai--distilbert-base-uncased-distilled-squad-ov-fp32/snapshots/a9da64102a84c4b3f110c4d627937a110e56257f/model_cache\n"
     ]
    },
    {
     "name": "stdout",
     "output_type": "stream",
     "text": [
      "GPU\n"
     ]
    }
   ],
   "source": [
    "# Use `model.to()` to compile the model on GPU if a GPU is found\n",
    "if \"GPU\" in Core().available_devices:\n",
    "    model.reshape(1, 28)\n",
    "    model.to(\"gpu\")\n",
    "    model.compile()\n",
    "    print(ov_pipe.model._device)"
   ]
  },
  {
   "cell_type": "code",
   "execution_count": 11,
   "id": "2538c02e-fa35-459f-90fb-e6667ef8747b",
   "metadata": {},
   "outputs": [
    {
     "name": "stderr",
     "output_type": "stream",
     "text": [
      "Compiling the model to GPU ...\n",
      "Setting OpenVINO CACHE_DIR to distilbert-base-uncased-distilled-squad-ov-fp16/model_cache\n"
     ]
    }
   ],
   "source": [
    "# Set the device directly with `.from_pretrained()`\n",
    "if \"GPU\" in Core().available_devices:\n",
    "    model = OVModelForQuestionAnswering.from_pretrained(\"distilbert-base-uncased-distilled-squad-ov-fp16\", device=\"GPU\")"
   ]
  },
  {
   "cell_type": "markdown",
   "id": "8e3a06fd-e51b-404e-b82a-2557e3db1375",
   "metadata": {},
   "source": [
    "## Part 2: Task Examples\n",
    "\n",
    "In this section, we give a short example for all supported `OVModelForXxx` classes. \n",
    "We use pre-converted models from the Hugging Face Hub that are stored in FP16 format for faster download times.\n",
    "\n",
    "Each task is a standalone example that contains all imports and data, so you can easily copy/paste it to a script or new notebook."
   ]
  },
  {
   "cell_type": "markdown",
   "id": "323d4b66-0b21-45aa-9a27-7d320f1d6a52",
   "metadata": {},
   "source": [
    "### Audio Classification"
   ]
  },
  {
   "cell_type": "markdown",
   "id": "7cc0391e-2b26-4a80-b40d-3c0a9233f198",
   "metadata": {
    "execution": {
     "iopub.execute_input": "2023-03-11T13:22:13.740185Z",
     "iopub.status.busy": "2023-03-11T13:22:13.739593Z",
     "iopub.status.idle": "2023-03-11T13:22:13.742538Z",
     "shell.execute_reply": "2023-03-11T13:22:13.742096Z",
     "shell.execute_reply.started": "2023-03-11T13:22:13.740165Z"
    },
    "tags": []
   },
   "source": [
    "Audio classification is the task of automatically categorizing audio data into classes or categories. See Hugging Face's [audio-classification](https://huggingface.co/tasks/audio-classificationhttps://huggingface.co/tasks/audio-classification) documentation for more information.\n",
    "\n",
    "In this example, we use the [MIT/ast-finetuned-speech-commands-v2](https://huggingface.co/MIT/ast-finetuned-speech-commands-v2) model to do inference on an audio file from the [speech commands](https://huggingface.co/datasets/speech_commands/viewer/v0.01/test) dataset. You can try your own audio file too. To do that, set `audio_sample = /path/to/audio_file`. To see the classes that this model was trained on, run `model.config.id2label`\n",
    "\n",
    "The model pipeline needs ffmpeg. On Ubuntu Linux: `sudo apt install ffmpeg`; see https://ffmpeg.org/download.html for other OSs"
   ]
  },
  {
   "cell_type": "code",
   "execution_count": 12,
   "id": "6b725d0a-e230-4b0e-b6b6-3d6d81eb984d",
   "metadata": {
    "tags": []
   },
   "outputs": [
    {
     "name": "stderr",
     "output_type": "stream",
     "text": [
      "Compiling the model to CPU ...\n"
     ]
    }
   ],
   "source": [
    "from IPython.display import Audio\n",
    "from optimum.intel import OVModelForAudioClassification\n",
    "from transformers import AutoFeatureExtractor, pipeline\n",
    "from datasets import load_dataset\n",
    "\n",
    "model_id = \"helenai/MIT-ast-finetuned-speech-commands-v2-ov\"\n",
    "model = OVModelForAudioClassification.from_pretrained(model_id)\n",
    "feature_extractor = AutoFeatureExtractor.from_pretrained(model_id)\n",
    "ov_pipe = pipeline(\"audio-classification\", model=model, feature_extractor=feature_extractor)\n",
    "\n",
    "# streaming=true enables loading one item from the dataset without downloading the full dataset\n",
    "dataset = load_dataset(\"speech_commands\", \"v0.02\", streaming=True, trust_remote_code=True)\n",
    "audio_sample = next(iter(dataset[\"test\"]))"
   ]
  },
  {
   "cell_type": "code",
   "execution_count": 13,
   "id": "d3012174-b58f-4efb-bb73-a88dbfb20392",
   "metadata": {
    "tags": []
   },
   "outputs": [
    {
     "data": {
      "text/html": [
       "\n",
       "                <audio  controls=\"controls\" >\n",
       "                    <source src=\"data:audio/wav;base64,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\" type=\"audio/wav\" />\n",
       "                    Your browser does not support the audio element.\n",
       "                </audio>\n",
       "              "
      ],
      "text/plain": [
       "<IPython.lib.display.Audio object>"
      ]
     },
     "metadata": {},
     "output_type": "display_data"
    },
    {
     "data": {
      "text/plain": [
       "[{'score': 0.9999935626983643, 'label': 'backward'},\n",
       " {'score': 3.4823816008611175e-07, 'label': 'forward'},\n",
       " {'score': 3.3890643180711777e-07, 'label': 'wow'}]"
      ]
     },
     "execution_count": 13,
     "metadata": {},
     "output_type": "execute_result"
    }
   ],
   "source": [
    "if isinstance(audio_sample, dict):\n",
    "    audio_data = audio_sample[\"audio\"][\"array\"]\n",
    "    sampling_rate = audio_sample[\"audio\"][\"sampling_rate\"]\n",
    "else:\n",
    "    # if audio_sample is not a dataset item, it should be the path to an audio file\n",
    "    audio_data = audio_sample\n",
    "    sampling_rate = None\n",
    "\n",
    "display(Audio(audio_data, rate=sampling_rate))\n",
    "\n",
    "ov_pipe(audio_data, top_k=3)"
   ]
  },
  {
   "cell_type": "markdown",
   "id": "d7f36065-db27-42d5-9293-cb8068e973ea",
   "metadata": {},
   "source": [
    "### Text Generation\n",
    "\n",
    "Text generation models complete text from a given prompt. See [Hugging Face's text-generation](https://huggingface.co/tasks/text-generation) documentation for more information.\n",
    "\n",
    "In this example, we use the [https://huggingface.co/gpt2](gpt2) model. Please check out the [model card](https://huggingface.co/gpt2) for this model for more information, including limitations and bias."
   ]
  },
  {
   "cell_type": "code",
   "execution_count": 14,
   "id": "5207a5af-3b53-43b3-ae5e-5b352c0f08d4",
   "metadata": {
    "tags": []
   },
   "outputs": [
    {
     "name": "stderr",
     "output_type": "stream",
     "text": [
      "Provided model does not contain state. It may lead to sub-optimal performance.Please reexport model with updated OpenVINO version >= 2023.3.0 calling the `from_pretrained` method with original model and `export=True` parameter\n",
      "Compiling the model to CPU ...\n",
      "Setting `pad_token_id` to `eos_token_id`:50256 for open-end generation.\n"
     ]
    },
    {
     "data": {
      "text/plain": [
       "[{'generated_text': \"Hello, I'm a language model, so I'm really interested in programming. I've always been a programming student. But for a long time,\"},\n",
       " {'generated_text': \"Hello, I'm a language model, because I don't think I ever spoke on paper to an editor. I'm simply someone reading a paper.\"},\n",
       " {'generated_text': \"Hello, I'm a language model, I understand. Your mother was talking to you. No, well, my grandmother had said that she heard '\"}]"
      ]
     },
     "execution_count": 14,
     "metadata": {},
     "output_type": "execute_result"
    }
   ],
   "source": [
    "from optimum.intel import OVModelForCausalLM\n",
    "from transformers import AutoTokenizer, pipeline\n",
    "\n",
    "model_id = \"helenai/gpt2-ov\"\n",
    "tokenizer = AutoTokenizer.from_pretrained(model_id)\n",
    "model = OVModelForCausalLM.from_pretrained(model_id)\n",
    "ov_pipe = pipeline(\"text-generation\", model=model, tokenizer=tokenizer)\n",
    "ov_pipe(\"Hello, I'm a language model,\", max_length=30, num_return_sequences=3)"
   ]
  },
  {
   "cell_type": "markdown",
   "id": "17e91482-1796-4096-9de7-7f33384460c4",
   "metadata": {},
   "source": [
    "### Image Classification\n",
    "\n",
    "Image classification is the task of automatically categorizing image data into classes or categories. See [Hugging Face's image-classification documentation](https://huggingface.co/tasks/image-classification) for more information.\n",
    "\n",
    "In this example we use the [microsoft/swin-tiny-patch4-window7-224](https://huggingface.co/microsoft/swin-tiny-patch4-window7-224) model which was pretrained on [ImageNet](https://en.wikipedia.org/wiki/ImageNet) which contains 1000 classes. Please check out the [model card](https://huggingface.co/microsoft/swin-tiny-patch4-window7-224) for more information about this model.\n",
    "\n",
    "Vision transformer models can have fixed static shapes and result in an error when loading them. We recommend using static shapes and setting `compile=False` on loading the model. The image classification pipeline resizes the images to the size stored in the feature extractor/image processor, so we can reshape the model to that size.\n",
    "\n",
    "For more great images of Coco the dog, see https://www.flickr.com/photos/cococv/"
   ]
  },
  {
   "cell_type": "code",
   "execution_count": 15,
   "id": "97569002-0c0a-4208-9b63-b2bab209fb81",
   "metadata": {
    "tags": []
   },
   "outputs": [
    {
     "name": "stderr",
     "output_type": "stream",
     "text": [
      "Compiling the model to CPU ...\n"
     ]
    },
    {
     "data": {
      "image/jpeg": "[encoded data removed]",
      "text/plain": [
       "<IPython.core.display.Image object>"
      ]
     },
     "metadata": {},
     "output_type": "display_data"
    },
    {
     "data": {
      "text/plain": [
       "[{'score': 0.4759257435798645, 'label': 'flat-coated retriever'},\n",
       " {'score': 0.10909581184387207, 'label': 'Labrador retriever'},\n",
       " {'score': 0.0819605216383934, 'label': 'Great Dane'}]"
      ]
     },
     "execution_count": 15,
     "metadata": {},
     "output_type": "execute_result"
    }
   ],
   "source": [
    "from IPython.display import Image\n",
    "from optimum.intel import OVModelForImageClassification\n",
    "from transformers import AutoImageProcessor, pipeline\n",
    "\n",
    "model_id = \"helenai/microsoft-swin-tiny-patch4-window7-224-ov\"\n",
    "model = OVModelForImageClassification.from_pretrained(model_id, compile=False)\n",
    "image_processor = AutoImageProcessor.from_pretrained(model_id)\n",
    "\n",
    "model.reshape(1, 3, image_processor.size[\"height\"], image_processor.size[\"width\"])\n",
    "model.compile()\n",
    "ov_pipe = pipeline(\"image-classification\", model=model, feature_extractor=image_processor)\n",
    "\n",
    "image_url_or_path = \"https://live.staticflickr.com/65535/51120373723_431ea5d1f5_w_d.jpg\"\n",
    "display(Image(image_url_or_path))\n",
    "ov_pipe(image_url_or_path, top_k=3)"
   ]
  },
  {
   "cell_type": "markdown",
   "id": "43cded93-5ee7-4576-bab9-c0c233d91bab",
   "metadata": {},
   "source": [
    "### Masked Language Modeling / Fill Mask\n",
    "\n",
    "Masked language modeling is the task of masking some of the words in a sentence and predicting which words should replace those masks. The masked words are replaced with a token, such as \\[MASK\\]. Doing inference on the model predicts a word to replace the mask token. See [Hugging Face's fill-mask documentation](https://huggingface.co/tasks/fill-mask) for more information.\n",
    "\n",
    "In this example we use the [bert-base-uncased](https://huggingface.co/bert-base-uncased) model. Please check out the [model card](https://huggingface.co/bert-base-uncased) for this model for more information, including limitations and bias."
   ]
  },
  {
   "cell_type": "code",
   "execution_count": 16,
   "id": "1cd9423b-3cba-4cf9-b58a-bffbde08738d",
   "metadata": {
    "tags": []
   },
   "outputs": [
    {
     "name": "stderr",
     "output_type": "stream",
     "text": [
      "Compiling the model to CPU ...\n"
     ]
    },
    {
     "data": {
      "text/plain": [
       "[{'score': 0.09604837000370026,\n",
       "  'token': 4827,\n",
       "  'token_str': 'fashion',\n",
       "  'sequence': 'i am a fashion model'},\n",
       " {'score': 0.09326566755771637,\n",
       "  'token': 2535,\n",
       "  'token_str': 'role',\n",
       "  'sequence': 'i am a role model'}]"
      ]
     },
     "execution_count": 16,
     "metadata": {},
     "output_type": "execute_result"
    }
   ],
   "source": [
    "from optimum.intel import OVModelForMaskedLM\n",
    "from transformers import AutoTokenizer, pipeline\n",
    "\n",
    "model_id = \"helenai/bert-base-uncased-ov\"\n",
    "model = OVModelForMaskedLM.from_pretrained(model_id)\n",
    "tokenizer = AutoTokenizer.from_pretrained(model_id)\n",
    "ov_pipe = pipeline(\"fill-mask\", model=model, tokenizer=tokenizer)\n",
    "\n",
    "sentence = f\"I am a {tokenizer.mask_token} model\"\n",
    "ov_pipe(sentence, top_k=2)"
   ]
  },
  {
   "cell_type": "markdown",
   "id": "949aa1df-53e7-4402-adc0-bc3d1ba2c6b8",
   "metadata": {
    "execution": {
     "iopub.execute_input": "2023-03-12T13:30:06.134777Z",
     "iopub.status.busy": "2023-03-12T13:30:06.134530Z",
     "iopub.status.idle": "2023-03-12T13:30:06.136960Z",
     "shell.execute_reply": "2023-03-12T13:30:06.136622Z",
     "shell.execute_reply.started": "2023-03-12T13:30:06.134750Z"
    },
    "tags": []
   },
   "source": [
    "### Question Answering\n",
    "\n",
    "Question Answering models predict an answer based on a question. Question-answering models based on the BERT architecture, like we use in this example, require a question and a context which contains the answer. See [Hugging Face's question-answering documentation](https://huggingface.co/tasks/question-answering) for more information.\n",
    "\n",
    "In this example we use the [distilbert-base-uncased-distilled-squad](https://huggingface.co/distilbert-base-uncased-distilled-squad) model. Refer to the [model card](https://huggingface.co/distilbert-base-uncased-distilled-squad) for more information about this model, including risks, limitations and biases.\n",
    "\n",
    "To use static shapes with question-answering models, add the `max_seq_len` parameter to the `pipeline()` call. For example: \n",
    "\n",
    "```python\n",
    "pipeline(\"question-answering\", model=model, tokenizer=tokenizer, max_seq_len=256, padding=\"max_length\", truncation=True)\n",
    "```"
   ]
  },
  {
   "cell_type": "code",
   "execution_count": 17,
   "id": "5d9cedee-902c-41b2-b6ef-1c04bbd8498e",
   "metadata": {
    "tags": []
   },
   "outputs": [
    {
     "name": "stderr",
     "output_type": "stream",
     "text": [
      "Compiling the model to CPU ...\n"
     ]
    },
    {
     "data": {
      "text/plain": [
       "{'score': 0.5305243730545044,\n",
       " 'start': 12,\n",
       " 'end': 75,\n",
       " 'answer': 'an open source toolkit for deep learning inference optimization'}"
      ]
     },
     "execution_count": 17,
     "metadata": {},
     "output_type": "execute_result"
    }
   ],
   "source": [
    "from optimum.intel import OVModelForQuestionAnswering\n",
    "from transformers import AutoTokenizer, pipeline\n",
    "\n",
    "# Load the model and tokenizer saved in Part 1 of this notebook. Or use the line below to load them from the hub\n",
    "# model_id = \"helenai/distilbert-base-uncased-distilled-squad-ov-fp32\"\n",
    "model_id = \"distilbert-base-uncased-distilled-squad-ov-fp32\"\n",
    "model = OVModelForQuestionAnswering.from_pretrained(model_id)\n",
    "tokenizer = AutoTokenizer.from_pretrained(model_id)\n",
    "ov_pipe = pipeline(\"question-answering\", model=model, tokenizer=tokenizer)\n",
    "ov_pipe(\"What is OpenVINO?\", \"OpenVINO is an open source toolkit for deep learning inference optimization.\")"
   ]
  },
  {
   "cell_type": "markdown",
   "id": "e6fa402f-8a5b-435b-a460-6528b052ef89",
   "metadata": {},
   "source": [
    "### Sequence-to-sequence (Seq2Seq)\n",
    "\n",
    "Sequence to Sequence, or encoder-decoder, models can do different tasks, such as translation, summarization and question answering. The [Hugging Face Course](https://huggingface.co/course/chapter1/1) has a great [7 minute video](https://huggingface.co/course/chapter1/7?fw=pt) which explains more about this class of models.\n",
    "\n",
    "In this example we use the [t5-small](https://huggingface.co/t5-small) model to show translation from English to German and English to French. Refer to the [model card](https://huggingface.co/t5-small) and the [T5 documentation](https://huggingface.co/docs/transformers/model_doc/t5#transformers.T5Model) for more information on this model.\n",
    "\n",
    "For encoder/decoder models, the `model.generate()` method is a powerful way to do inference. Pipelines are also supported. In this example we show how to use both methods."
   ]
  },
  {
   "cell_type": "code",
   "execution_count": 18,
   "id": "755096b0-406d-4167-8642-5b4b093e2bc5",
   "metadata": {
    "tags": []
   },
   "outputs": [
    {
     "name": "stderr",
     "output_type": "stream",
     "text": [
      "Compiling the encoder to CPU ...\n",
      "Compiling the decoder to CPU ...\n",
      "Compiling the decoder to CPU ...\n"
     ]
    },
    {
     "data": {
      "text/plain": [
       "'Das Haus ist wunderbar.'"
      ]
     },
     "execution_count": 18,
     "metadata": {},
     "output_type": "execute_result"
    }
   ],
   "source": [
    "from optimum.intel import OVModelForSeq2SeqLM\n",
    "from transformers import AutoTokenizer, pipeline\n",
    "\n",
    "model_id = \"helenai/t5-small-ov\"\n",
    "model = OVModelForSeq2SeqLM.from_pretrained(model_id, compile=False, trust_remote_code=True)\n",
    "tokenizer = AutoTokenizer.from_pretrained(model_id, trust_remote_code=True)\n",
    "\n",
    "input_ids = tokenizer(\"translate English to German: This house is wonderful.\", return_tensors=\"pt\").input_ids\n",
    "outputs = model.generate(input_ids, max_new_tokens=10)\n",
    "tokenizer.decode(outputs[0], skip_special_tokens=True)"
   ]
  },
  {
   "cell_type": "code",
   "execution_count": 19,
   "id": "c0f096f2-0cd3-40ab-9661-1c7209c6a670",
   "metadata": {
    "tags": []
   },
   "outputs": [
    {
     "data": {
      "text/plain": [
       "['summarization',\n",
       " 'translation_en_to_de',\n",
       " 'translation_en_to_fr',\n",
       " 'translation_en_to_ro']"
      ]
     },
     "execution_count": 19,
     "metadata": {},
     "output_type": "execute_result"
    }
   ],
   "source": [
    "# Show the pipeline tasks for this model\n",
    "list(model.config.task_specific_params.keys())"
   ]
  },
  {
   "cell_type": "code",
   "execution_count": 20,
   "id": "ebf97e9c-d1e1-4908-8a3a-bad24ee3a34f",
   "metadata": {
    "tags": []
   },
   "outputs": [
    {
     "data": {
      "text/plain": [
       "[{'translation_text': \"Qu'est-ce qu'un modèle de séquence à séquence?\"}]"
      ]
     },
     "execution_count": 20,
     "metadata": {},
     "output_type": "execute_result"
    }
   ],
   "source": [
    "ov_pipe = pipeline(\"translation_en_to_fr\", model=model, tokenizer=tokenizer)\n",
    "ov_pipe(\"What is a sequence to sequence model?\")"
   ]
  },
  {
   "cell_type": "markdown",
   "id": "e6bc49b3-9d16-45b4-a927-9bb37273c455",
   "metadata": {},
   "source": [
    "### Text/Sequence Classification\n",
    "\n",
    "Sequence classification is the task of automatically classifiying text sequences, such as sentences, into classes or categories. See Hugging Face's [text-classification documentation](https://huggingface.co/tasks/text-classification) for more information.\n",
    "\n",
    "In this example we use the [papluca/xlm-roberta-base-language-detectionpapluca/xlm-roberta-base-language-detection](https://huggingface.co/papluca/xlm-roberta-base-language-detection) model. Given a sentence, the model predicts which language out of 20 supported languages the sentence belongs to. Please check out the [model card](https://huggingface.co/papluca/xlm-roberta-base-language-detection) for more information about the model. \n",
    "\n",
    "To use static shapes with text classification models, add the `max_length` parameter to the `pipeline()` call. For example: \n",
    "\n",
    "```python\n",
    "pipeline(\"text-classification\", model=model, tokenizer=tokenizer, max_length=128, padding=\"max_length\", truncation=True)\n",
    "```"
   ]
  },
  {
   "cell_type": "code",
   "execution_count": 21,
   "id": "59df852f-e9bb-4f96-91d9-23f4e4577ea0",
   "metadata": {
    "tags": []
   },
   "outputs": [
    {
     "name": "stderr",
     "output_type": "stream",
     "text": [
      "Compiling the model to CPU ...\n"
     ]
    },
    {
     "data": {
      "text/plain": [
       "[{'label': 'nl', 'score': 0.994126558303833}]"
      ]
     },
     "execution_count": 21,
     "metadata": {},
     "output_type": "execute_result"
    }
   ],
   "source": [
    "from optimum.intel import OVModelForSequenceClassification\n",
    "from transformers import AutoTokenizer, pipeline\n",
    "\n",
    "model_id = \"helenai/papluca-xlm-roberta-base-language-detection-ov\"\n",
    "model = OVModelForSequenceClassification.from_pretrained(model_id)\n",
    "tokenizer = AutoTokenizer.from_pretrained(model_id)\n",
    "ov_pipe = pipeline(\"text-classification\", model=model, tokenizer=tokenizer)\n",
    "\n",
    "# this is a Dutch (nl) sentence, it means \"hello world!\"\n",
    "ov_pipe(\"hallo wereld!\")"
   ]
  },
  {
   "cell_type": "markdown",
   "id": "4a94cd67-d159-40a1-9e73-316b4b493f13",
   "metadata": {},
   "source": [
    "### Token Classification\n",
    "\n",
    "While text/sequence classification classifies an entire sentence, token classification is the task of automatically classifying different parts of a sentence. See [Hugging Face's token-classification documentation](https://huggingface.co/tasks/token-classification) for more information.\n",
    "\n",
    "In this example we use the [dslim/bert-base-NER](https://huggingface.co/dslim/bert-base-NER) model, which recognizes persons, organizations and locations. Please see the [model card](https://huggingface.co/dslim/bert-base-NER) for more information about this model including its limitations."
   ]
  },
  {
   "cell_type": "code",
   "execution_count": 22,
   "id": "87f633c0-3334-4ef0-942a-5bdec807568d",
   "metadata": {
    "tags": []
   },
   "outputs": [
    {
     "name": "stderr",
     "output_type": "stream",
     "text": [
      "Compiling the model to CPU ...\n"
     ]
    },
    {
     "name": "stdout",
     "output_type": "stream",
     "text": [
      "{'entity': 'B-PER', 'score': 0.99901474, 'index': 4, 'word': 'Wolfgang', 'start': 11, 'end': 19}\n",
      "{'entity': 'B-LOC', 'score': 0.999645, 'index': 9, 'word': 'Berlin', 'start': 34, 'end': 40}\n"
     ]
    }
   ],
   "source": [
    "from optimum.intel import OVModelForTokenClassification\n",
    "from transformers import AutoTokenizer, pipeline\n",
    "\n",
    "model_id = \"helenai/dslim-bert-base-NER-ov-fp32\"\n",
    "tokenizer = AutoTokenizer.from_pretrained(model_id)\n",
    "model = OVModelForTokenClassification.from_pretrained(model_id)\n",
    "ov_pipe = pipeline(\"token-classification\", model=model, tokenizer=tokenizer)\n",
    "result = ov_pipe(\"My name is Wolfgang and I live in Berlin\")\n",
    "for item in result:\n",
    "    print(item)"
   ]
  },
  {
   "cell_type": "markdown",
   "id": "f924a929-b518-405a-b078-1133131412ef",
   "metadata": {},
   "source": [
    "## References\n",
    "\n",
    "- [Optimum OpenVINO Inference](https://huggingface.co/docs/optimum/intel/inference) in Hugging Face Optimum documentation\n",
    "- [API documentation for the OpenVINO integration into Optimum](https://huggingface.co/docs/optimum/intel/reference_ov)\n",
    "\n",
    "## Next Steps\n",
    "\n",
    "Learn how to quantize models for faster inference with OpenVINO\n",
    "- Documentation: [Model Optimization with NNCF](https://huggingface.co/docs/optimum/intel/optimization_ov)\n",
    "- Notebook: [Post Training Quantization of a question-answering model](https://github.com/huggingface/optimum-intel/blob/main/notebooks/openvino/question_answering_quantization.ipynb)\n",
    "- Examples: [Quantization Aware Training examples](https://github.com/huggingface/optimum-intel/tree/main/examples/openvino)"
   ]
  },
  {
   "cell_type": "code",
   "execution_count": null,
   "id": "0606fb02-2367-4573-8461-7fc8c065ece6",
   "metadata": {},
   "outputs": [],
   "source": []
  }
 ],
 "metadata": {
  "kernelspec": {
   "display_name": "Python 3 (ipykernel)",
   "language": "python",
   "name": "python3"
  },
  "language_info": {
   "codemirror_mode": {
    "name": "ipython",
    "version": 3
   },
   "file_extension": ".py",
   "mimetype": "text/x-python",
   "name": "python",
   "nbconvert_exporter": "python",
   "pygments_lexer": "ipython3",
   "version": "3.10.12"
  },
  "widgets": {
   "application/vnd.jupyter.widget-state+json": {
    "state": {},
    "version_major": 2,
    "version_minor": 0
   }
  }
 },
 "nbformat": 4,
 "nbformat_minor": 5
}
